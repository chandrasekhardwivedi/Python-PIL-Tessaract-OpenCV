{
 "cells": [
  {
   "cell_type": "markdown",
   "metadata": {},
   "source": [
    "# The Project #\n",
    "1. This is a project with minimal scaffolding. Expect to use the the discussion forums to gain insights! It’s not cheating to ask others for opinions or perspectives!\n",
    "2. Be inquisitive, try out new things.\n",
    "3. Use the previous modules for insights into how to complete the functions! You'll have to combine Pillow, OpenCV, and Pytesseract\n",
    "4. There are hints provided in Coursera, feel free to explore the hints if needed. Each hint provide progressively more details on how to solve the issue. This project is intended to be comprehensive and difficult if you do it without the hints.\n",
    "\n",
    "### The Assignment ###\n",
    "Take a [ZIP file](https://en.wikipedia.org/wiki/Zip_(file_format)) of images and process them, using a [library built into python](https://docs.python.org/3/library/zipfile.html) that you need to learn how to use. A ZIP file takes several different files and compresses them, thus saving space, into one single file. The files in the ZIP file we provide are newspaper images (like you saw in week 3). Your task is to write python code which allows one to search through the images looking for the occurrences of keywords and faces. E.g. if you search for \"pizza\" it will return a contact sheet of all of the faces which were located on the newspaper page which mentions \"pizza\". This will test your ability to learn a new ([library](https://docs.python.org/3/library/zipfile.html)), your ability to use OpenCV to detect faces, your ability to use tesseract to do optical character recognition, and your ability to use PIL to composite images together into contact sheets.\n",
    "\n",
    "Each page of the newspapers is saved as a single PNG image in a file called [images.zip](./readonly/images.zip). These newspapers are in english, and contain a variety of stories, advertisements and images. Note: This file is fairly large (~200 MB) and may take some time to work with, I would encourage you to use [small_img.zip](./readonly/small_img.zip) for testing.\n",
    "\n",
    "Here's an example of the output expected. Using the [small_img.zip](./readonly/small_img.zip) file, if I search for the string \"Christopher\" I should see the following image:\n",
    "![Christopher Search](./readonly/small_project.png)\n",
    "If I were to use the [images.zip](./readonly/images.zip) file and search for \"Mark\" I should see the following image (note that there are times when there are no faces on a page, but a word is found!):\n",
    "![Mark Search](./readonly/large_project.png)\n",
    "\n",
    "Note: That big file can take some time to process - for me it took nearly ten minutes! Use the small one for testing."
   ]
  },
  {
   "cell_type": "code",
   "execution_count": 2,
   "metadata": {},
   "outputs": [],
   "source": [
    "import zipfile\n",
    "\n",
    "from PIL import Image\n",
    "import pytesseract\n",
    "import cv2 as cv\n",
    "import numpy as np\n",
    "\n",
    "# loading the face detection classifier\n",
    "face_cascade = cv.CascadeClassifier('readonly/haarcascade_frontalface_default.xml')\n",
    "\n",
    "# the rest is up to you!"
   ]
  },
  {
   "cell_type": "code",
   "execution_count": 3,
   "metadata": {},
   "outputs": [],
   "source": [
    "#import the required modules\n",
    "import os\n",
    "import io"
   ]
  },
  {
   "cell_type": "code",
   "execution_count": 4,
   "metadata": {},
   "outputs": [],
   "source": [
    "def get_news_info(image_path):\n",
    "    news_info = {}\n",
    "    with zipfile.ZipFile(image_path) as zippedImgs:\n",
    "        for fname in zippedImgs.namelist():\n",
    "            with zippedImgs.open(fname) as imgFile:\n",
    "                # read image\n",
    "                cv_img = cv.imdecode(np.frombuffer(imgFile.read(), np.uint8), 1)\n",
    "\n",
    "                # convert to grayscale\n",
    "                gray = cv.cvtColor(cv_img, cv.COLOR_BGR2GRAY)\n",
    "\n",
    "                #extract faces\n",
    "                faces = face_cascade.detectMultiScale(gray, 1.3, 5)\n",
    "\n",
    "                # extract text\n",
    "                img = Image.open(imgFile)\n",
    "                text = pytesseract.image_to_string(img)\n",
    "\n",
    "                # store news info\n",
    "                news_info[fname] = (img, text, faces)\n",
    "        \n",
    "    return news_info"
   ]
  },
  {
   "cell_type": "code",
   "execution_count": null,
   "metadata": {},
   "outputs": [],
   "source": [
    "small_images_news_info = get_news_info('/home/jovyan/work/readonly/small_img.zip')"
   ]
  },
  {
   "cell_type": "code",
   "execution_count": null,
   "metadata": {},
   "outputs": [],
   "source": []
  }
 ],
 "metadata": {
  "anaconda-cloud": {},
  "kernelspec": {
   "display_name": "Python 3",
   "language": "python",
   "name": "python3"
  },
  "language_info": {
   "codemirror_mode": {
    "name": "ipython",
    "version": 3
   },
   "file_extension": ".py",
   "mimetype": "text/x-python",
   "name": "python",
   "nbconvert_exporter": "python",
   "pygments_lexer": "ipython3",
   "version": "3.7.1"
  }
 },
 "nbformat": 4,
 "nbformat_minor": 2
}
